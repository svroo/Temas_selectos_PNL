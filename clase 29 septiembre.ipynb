{
 "cells": [
  {
   "cell_type": "markdown",
   "metadata": {},
   "source": [
    "<div align='right'><h3>29 de septiembre del 2023</h3></div>\n",
    "\n",
    "# Lematización y stemming\n",
    "\n",
    "- Stemming\n",
    "    - Generous $\\rightarrow$ General, Generosity, Generousess, Generally\n",
    "    - Fairly $\\rightarrow$ Fair, Fairness, Faithfully, Fargroudn, unfair\n",
    "    - Sings $\\rightarrow$ Singer, singing, singalong, single, singular\n",
    "    - Changing $\\rightarrow$ change, chager, change, chageble, changue\n",
    "\n",
    "La palbra se modifica para reducir una palabra hasta la raiz.\n",
    "\n",
    "### Ventajas\n",
    "- Rendimiento del modelo, puede hacer qeu el algoritmo se ejecute más rápido.\n",
    "- Agrupamiento de palabras similares.\n",
    "\n",
    "### Desventaja\n",
    "- Ratización o falsos positivos.\n",
    "- Falsos negativos.\n",
    "\n",
    "\n",
    "## Lematización\n",
    "### Ventajas\n",
    "- Precisión: más costo computacional \n",
    "\n",
    "\n",
    "#### Ejercicio:\n",
    "| |Stemming|Lemmatization|\n",
    "|-|-|-|\n",
    "|Change| Chang|Change|\n",
    "|changing|chang|charge|\n",
    "|changes|chang|change|\n",
    "|changed|chang|change|\n",
    "|changer|chang|change|\n"
   ]
  },
  {
   "cell_type": "code",
   "execution_count": 1,
   "metadata": {},
   "outputs": [
    {
     "name": "stderr",
     "output_type": "stream",
     "text": [
      "[nltk_data] Downloading package punkt to\n",
      "[nltk_data]     C:\\Users\\hp\\AppData\\Roaming\\nltk_data...\n",
      "[nltk_data]   Package punkt is already up-to-date!\n"
     ]
    },
    {
     "data": {
      "text/plain": [
       "True"
      ]
     },
     "execution_count": 1,
     "metadata": {},
     "output_type": "execute_result"
    }
   ],
   "source": [
    "import nltk\n",
    "from nltk.stem import PorterStemmer\n",
    "nltk.download('punkt') # Se obtiene el modelo punkt entrenado"
   ]
  },
  {
   "cell_type": "code",
   "execution_count": 2,
   "metadata": {},
   "outputs": [
    {
     "name": "stdout",
     "output_type": "stream",
     "text": [
      "--word--            --Stem--            \n",
      "General             gener               \n",
      "Generosity          generos             \n",
      "Generousess         generousess         \n",
      "Generally           gener               \n",
      "Fair                fair                \n",
      "Fairness            fair                \n",
      "Faithfully          faith               \n",
      "Fargroudn           fargroudn           \n",
      "unfair              unfair              \n",
      "Singer              singer              \n",
      "singing             sing                \n",
      "singalong           singalong           \n",
      "single              singl               \n",
      "singular            singular            \n",
      "change              chang               \n",
      "chager              chager              \n",
      "change              chang               \n",
      "chageble            chagebl             \n",
      "changue             changu              \n"
     ]
    }
   ],
   "source": [
    "# Inicio de la cclase protstemmer\n",
    "ps = PorterStemmer()\n",
    "\n",
    "# Proporciona una lidsta de palabras\n",
    "example_words = ['General', 'Generosity', 'Generousess', 'Generally', 'Fair', 'Fairness', 'Faithfully', 'Fargroudn', 'unfair', 'Singer', 'singing', 'singalong', 'single', 'singular', 'change', 'chager', 'change', 'chageble', 'changue']\n",
    "\n",
    "# proceso de stemming\n",
    "print(\"{0:20}{1:20}\".format(\"--word--\", \"--Stem--\"))\n",
    "for word in example_words:\n",
    "    print(\"{0:20}{1:20}\".format(word, ps.stem(word)))"
   ]
  },
  {
   "cell_type": "markdown",
   "metadata": {},
   "source": [
    "# Lematización"
   ]
  },
  {
   "cell_type": "code",
   "execution_count": 11,
   "metadata": {},
   "outputs": [],
   "source": [
    "from nltk.stem import WordNetLemmatizer\n",
    "# nltk.download('wordnet')\n",
    "# nltk.download('omw-1.4')"
   ]
  },
  {
   "cell_type": "code",
   "execution_count": 6,
   "metadata": {},
   "outputs": [
    {
     "name": "stdout",
     "output_type": "stream",
     "text": [
      "--word--            --Stem--            \n",
      "General             General             \n",
      "Generosity          Generosity          \n",
      "Generousess         Generousess         \n",
      "Generally           Generally           \n",
      "Fair                Fair                \n",
      "Fairness            Fairness            \n",
      "Faithfully          Faithfully          \n",
      "Fargroudn           Fargroudn           \n",
      "unfair              unfair              \n",
      "Singer              Singer              \n",
      "singing             sing                \n",
      "singalong           singalong           \n",
      "single              single              \n",
      "singular            singular            \n",
      "change              change              \n",
      "chager              chager              \n",
      "change              change              \n",
      "chageble            chageble            \n",
      "changue             changue             \n"
     ]
    }
   ],
   "source": [
    "lm = WordNetLemmatizer()\n",
    "\n",
    "# example_words = ['General', 'Generosity', 'Generousess', 'Generally', 'Fair', 'Fairness', 'Faithfully', 'Fargroudn', 'unfair', 'Singer', 'singing', 'singalong', 'single', 'singular', 'change', 'chager', 'change', 'chageble', 'changue']\n",
    "\n",
    "# proceso de stemming\n",
    "print(\"{0:20}{1:20}\".format(\"--word--\", \"--Stem--\"))\n",
    "for word in example_words:\n",
    "    print(\"{0:20}{1:20}\".format(word, lm.lemmatize(word, pos='v')))"
   ]
  },
  {
   "cell_type": "code",
   "execution_count": 7,
   "metadata": {},
   "outputs": [],
   "source": [
    "import string\n",
    "from nltk.tokenize import word_tokenize"
   ]
  },
  {
   "cell_type": "code",
   "execution_count": 9,
   "metadata": {},
   "outputs": [
    {
     "name": "stdout",
     "output_type": "stream",
     "text": [
      "--word--            --Stem--            \n",
      "If                  if                  \n",
      "you                 you                 \n",
      "are                 are                 \n",
      "not                 not                 \n",
      "willing             will                \n",
      "to                  to                  \n",
      "risk                risk                \n",
      "the                 the                 \n",
      "usual               usual               \n",
      "you                 you                 \n",
      "will                will                \n",
      "have                have                \n",
      "to                  to                  \n",
      "settle              settl               \n",
      "for                 for                 \n",
      "the                 the                 \n",
      "ordinary            ordinari            \n",
      "You                 you                 \n",
      "only                onli                \n",
      "fail                fail                \n",
      "when                when                \n",
      "you                 you                 \n",
      "stop                stop                \n",
      "trying              tri                 \n"
     ]
    }
   ],
   "source": [
    "example_sentence = 'If you are not willing to risk the usual, you will have to settle for the ordinary. You only fail when you stop trying.'\n",
    "\n",
    "#  eliminamos signos de putntuación\n",
    "example_no_punct = example_sentence.translate(str.maketrans('','',string.punctuation))\n",
    "\n",
    "#  generamos los tokens\n",
    "word_token = word_tokenize(example_no_punct)\n",
    "\n",
    "print(\"{0:20}{1:20}\".format(\"--word--\", \"--Stem--\"))\n",
    "for word in word_token:\n",
    "    print(\"{0:20}{1:20}\".format(word, ps.stem(word)))"
   ]
  },
  {
   "cell_type": "markdown",
   "metadata": {},
   "source": [
    "# Lematizacion"
   ]
  },
  {
   "cell_type": "code",
   "execution_count": 10,
   "metadata": {},
   "outputs": [
    {
     "name": "stdout",
     "output_type": "stream",
     "text": [
      "--word--            --Stem--            \n",
      "If                  If                  \n",
      "you                 you                 \n",
      "are                 be                  \n",
      "not                 not                 \n",
      "willing             will                \n",
      "to                  to                  \n",
      "risk                risk                \n",
      "the                 the                 \n",
      "usual               usual               \n",
      "you                 you                 \n",
      "will                will                \n",
      "have                have                \n",
      "to                  to                  \n",
      "settle              settle              \n",
      "for                 for                 \n",
      "the                 the                 \n",
      "ordinary            ordinary            \n",
      "You                 You                 \n",
      "only                only                \n",
      "fail                fail                \n",
      "when                when                \n",
      "you                 you                 \n",
      "stop                stop                \n",
      "trying              try                 \n"
     ]
    }
   ],
   "source": [
    "print(\"{0:20}{1:20}\".format(\"--word--\", \"--Stem--\"))\n",
    "for word in word_token:\n",
    "    print(\"{0:20}{1:20}\".format(word, lm.lemmatize(word, pos='v')))"
   ]
  }
 ],
 "metadata": {
  "kernelspec": {
   "display_name": "PNLenv",
   "language": "python",
   "name": "python3"
  },
  "language_info": {
   "codemirror_mode": {
    "name": "ipython",
    "version": 3
   },
   "file_extension": ".py",
   "mimetype": "text/x-python",
   "name": "python",
   "nbconvert_exporter": "python",
   "pygments_lexer": "ipython3",
   "version": "3.10.13"
  },
  "orig_nbformat": 4
 },
 "nbformat": 4,
 "nbformat_minor": 2
}
