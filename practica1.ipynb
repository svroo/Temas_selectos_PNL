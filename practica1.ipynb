{
 "cells": [
  {
   "cell_type": "markdown",
   "metadata": {},
   "source": [
    "# Tarea 1\n",
    "\n",
    "Usando expresiones regulares comprobar si las cadenas ingresadas son:\n",
    "- Correo electronico\n",
    "- Fecha y hora\n",
    "- URL\n",
    "- CURP\n",
    "- RFC\n",
    "- Boleta del IPN\n",
    "- Dirección IP"
   ]
  },
  {
   "cell_type": "code",
   "execution_count": 1,
   "metadata": {},
   "outputs": [],
   "source": [
    "import re"
   ]
  },
  {
   "cell_type": "markdown",
   "metadata": {},
   "source": [
    "# Email\n",
    "\n",
    "pattern = <p>\"[a-z0-9!#$%&'*+/=?^_`{|}~-]+(?:\\.[a-z0-9!#$%&'*+/=?^_`{|}~-]+)\\*@(?:[a-z0-9](?:[a-z0-9-]*[a-z0-9])?\\.)+[a-z0-9](?:[a-z0-9-]*[a-z0-9])?\"<p>\n",
    "\n",
    "\n",
    "<p>[a-z0-9!#$%&'*+/=?^_`{|}~-] Coincide con un caracter en el rango de \"a\" a \"z\". Coincide con los caracteres en un rango de \"0\" a \"9\".\n",
    "Coincide con los caracteres !#$%&'*+/=?^_`{|}~-</p>\n",
    "\n",
    "<p>Grupo sin captura: (?:\\.[a-z0-9!#$%&'*+/=?^_`{|}~-]+) = Coincide con los caracteres en un rango de \"a\" a \"z\". Coincide con los caracteres en un rango de \"0\" a \"9\". Coincide con los caracteres * !#$%&'*+/=?^_`{|}~- *</p>\n",
    "\n",
    "<p>* Quantifier. Match 0 or more of the preceding token.</p>\n",
    "<p>@ Caracter. Coincide con el caracter \"@\".</p>\n",
    "\n",
    "Grupo sin captura: Agrupa multiples tokens sin crear un grupo de captura.\n",
    "<p>(?:[a-z0-9](?:[a-z0-9-]*[a-z0-9])?\\.)</p>\n",
    "<p>(?:[a-z0-9]:</p>\n",
    "Coincide con cualquier caracter en el conjunto:\n",
    "- a-z Rango. Coincide con el caracter en el rango \"a\" a \"z\"\n",
    "- 0-9 Rango. Coincide con el caracter en el rango \"0\" a \"9\"\n",
    "<p>(?:[a-z0-9-]*[a-z0-9])?\\.)</p>\n",
    "- Coincide con los caracteres en un rango de \"a\" a \"z\"\n",
    "- Coincide con los caracteres en un rango de \"0\" a \"9\"\n",
    "- Coincide con el caracter '-'\n",
    "- <p>* Cuantificador. Coincide con 0 o más del token anterior</p>\n",
    "- Coincide con los caracteres en un rango de \"a\" a \"z\"\n",
    "- Coincide con los caracteres en un rango de \"0\" a \"9\"\n",
    "- <p>? Cuantificador. Coincidencia entre 0 y 1 del token anterior</p>\n",
    "- Caracter de escape. Coincidencia 1 o más del token anterior\n",
    "\n",
    "<p>[a-z0-9]</p>\n",
    "- a-z Rango. Coincide con el caracter en el rango \"a\" a \"z\"\n",
    "- 0-9 Rango. Coincide con el caracter en el rango \"0\" a \"9\"\n",
    "\n",
    "<p>(?:[a-z0-9-]*[a-z0-9])?</p>\n",
    "Grupo sin captura: Agrupa multiples tokens sin crear un grupo de captura.\n",
    "- Coincide con los caracteres en un rango de \"a\" a \"z\"\n",
    "- Coincide con los caracteres en un rango de \"0\" a \"9\"\n",
    "- Coincide con el caracter '-'\n",
    "- <p>* Cuantificador. Coincide con 0 o más del token anterior</p>\n",
    "- a-z Rango. Coincide con el caracter en el rango \"a\" a \"z\"\n",
    "- 0-9 Rango. Coincide con el caracter en el rango \"0\" a \"9\"\n",
    "- <p>? Cuantificador. Coincidencia entre 0 y 1 del token anterior</p>\n",
    "\n"
   ]
  },
  {
   "cell_type": "code",
   "execution_count": 5,
   "metadata": {},
   "outputs": [
    {
     "data": {
      "text/plain": [
       "'Es un email\\n'"
      ]
     },
     "execution_count": 5,
     "metadata": {},
     "output_type": "execute_result"
    }
   ],
   "source": [
    "def email_valid(email):\n",
    "    regex = re.compile(\n",
    "        r\"[a-z0-9!#$%&'*+/=?^_`{|}~-]+(?:\\.[a-z0-9!#$%&'*+/=?^_`{|}~-]+)*@(?:[a-z0-9](?:[a-z0-9-]*[a-z0-9])?\\.)+[a-z0-9](?:[a-z0-9-]*[a-z0-9])?\"\n",
    "    )\n",
    "\n",
    "    if re.fullmatch(regex, email):\n",
    "        return \"Es un email\\n\"\n",
    "    else:\n",
    "        return \"No es un email\\n\"\n",
    "    \n",
    "email_valid('rsalazarv2100tmp@alumnoguinda.mx')"
   ]
  },
  {
   "cell_type": "markdown",
   "metadata": {},
   "source": [
    "# Fecha y hora \n",
    "\n",
    "<p>patter: ^(19[0-9]{2}|2[0-9]{3})-(0[1-9]|1[012])-([123]0|[012][1-9]|31) ([01][0-9]|2[0-3]):([0-5][0-9]):([0-5][0-9])$</p>\n",
    "\n",
    "^ Comienzo. Coincide con el comienzo de la cadena, o el comienzo de una línea si el indicador multilínea (m) está habilitado\n",
    "\n",
    "Grupo de captura 1: Agrupa varios tokens y crea un grupo de captura para extraer una subcadena o utilizar una referencia inversa.\n",
    "- Coincide con el caracter \"1\"\n",
    "- Coincide con el caracter \"9\"\n",
    "Conjunto de caracteres. Coincide cualquier caracter en el conjunto.\n",
    "    - 0-9 Rango. Coincide un caracter en el rango \"0\" a \"9\". $\\{2\\}$ Cuantificador. Coincide con 2 del token anterior.\n",
    "    - | Actua como \"or\" boleano. Coincide con la expresión antes o despues de |\n",
    "    Caracter coincide con \"2\"\n",
    "    Conjunto de caracteres. Coincide con cualquier caracter en el conjunto:\n",
    "        - 0-9 Rango. Coincide con un caracter en el rango \"0\" a \"9\"\n",
    "        - Cuantificador, Coincide con 3 del token anterior\n",
    "\n",
    "- '-' Coincide con el caracter\n",
    "\n",
    "Grupo de captura #2. Agrupamos multiples tokens juntos y creamos un grupo de captura para extraer una subcadena o usar una referencia iversa.\n",
    "\n",
    "- 0 Caracter. Coincide con el caracter\n",
    "\n",
    "Conjunto de caracteres. Coincide con cualquier caracter en el conjunto:\n",
    "\n",
    "    - 1-9 Rango. Coincide con cualquier caracter en el rango.\n",
    "    - | Alternancia. Actua como un \"OR\" boleano. Coincide con la expresion después o antes de | \n",
    "\n",
    "- Caracter 1. Coincide con el caracter.\n",
    "\n",
    "Conjunto de caracteres. Coincide con cualquier caracter en el conjunto:\n",
    "\n",
    "    - 0 Caracter. Coincide con el caracter\n",
    "    - 1 Caracter. Coincide con el caracter \n",
    "    - 2 Caracter. Coincide con el caracter\n",
    "\n",
    "- Coincide con el caracter \"-\"\n",
    "\n",
    "Grupo de captura #3. Agrupamos multipes tokens y creamos un grupo de captura para extraer una subcadena o usar una referencia inversa.\n",
    "\n",
    "Counjunto de caracteres. Coincide con cualquier caracter en el conjuntoL\n",
    "\n",
    "    - 1 Caracter. Coincide con el caracter\n",
    "    - 2 Caracter. Coincide con el caracter\n",
    "    - 3 Caracter. Coincide con el caracter\n",
    "    - 0 caracer. Coincide con el caracter\n",
    "    - | Alternancia. Actua como un \"or\" boleano. Coincide con la exprecion de después o de antes | .\n",
    "\n",
    "Conjunto de caracteres. Coincide con cualquier caracter en el conjunto:\n",
    "\n",
    "        - 0 Caracter. Coincide con el caracter.\n",
    "        - 1 Caracter. Coincide con el caracter.\n",
    "        - 2 caracter. Coincide con el caracter.\n",
    "\n",
    "Conjunto de caracteres. Coincide con cualquiera en el conjunto.\n",
    "\n",
    "    - 1-9 Conjunto de caracteres. Coincide con cualquier caracter en el conjunto.\n",
    "    - | Alternancia. Actua como un \"or\" boleano. Coincide con la expresión de antes o después del |\n",
    "    - 3 Caracter. Coincide con el caracter\n",
    "    - 1 Caracter. Coincide con el caracter\n",
    "\n",
    "caracter. Coincide con un caracter de espacio.\n",
    "\n",
    "Grupo de captura #4. Agrupamos multiple tokens y creamos un grupo de captura para extraer una subcadena o usar una referencia inversa.\n",
    "\n",
    "Conjunto de caracteres. Coincide con cualquier caracter en el conjunto:\n",
    "\n",
    "    - 1 Caracter. Coincide con el caracter.\n",
    "    - 0 Caracter. Coincide con el caracter.\n",
    "\n",
    "Conjunto de caracteres. Coincide con cualquier caracter en el conjunto:\n",
    "\n",
    "    - 1-9 Conjunto de caracteres. Coincide con cualquier caracter en el conjunto.\n",
    "    - | Alternancia. Actua como un \"or\" boleano. Coincide con la expresión de antes o después del |\n",
    "    - 2 Caracter. Coincide con el caracter\n",
    "\n",
    "Conjunto de caracteres. Coincide con cualquier caracter en el conjunto:\n",
    "\n",
    "    - 0-3 Rango. Coincide con cualquier caracter en el conjunto.\n",
    "\n",
    "<p>\":\" Caracter. Coincide con el caracter</p>\n",
    "\n",
    "Conjunto de caracteres. Coincide con cualquier caracter en el conjunto:\n",
    "\n",
    "    - \"0-5\" Conjunto de caracteres. Coincide con cualquier caracter en el conjunto.\n",
    "    - \"0-9\" Conjunto de caracteres. Coincide con cualquier caracter en el conjunto.\n",
    "\n",
    "\":\" Caracter. Coincide con el caracter\n",
    "\n",
    "Grupo de captura #4. Agrupamos multiple tokens y creamos un grupo de captura para extraer una subcadena o usar una referencia inversa.\n",
    "\n",
    "    - \"0-5\" Conjunto de caracteres. Coincide con cualquier caracter en el conjunto.\n",
    "    - \"0-9\" Conjunto de caracteres. Coincide con cualquier caracter en el conjunto.\n",
    "\n",
    "\n",
    "$ fin. Coincide con el final de la cuerda. o el final de una línea si el indicador multilínea (m) está habilitado.\n"
   ]
  },
  {
   "cell_type": "code",
   "execution_count": 6,
   "metadata": {},
   "outputs": [
    {
     "data": {
      "text/plain": [
       "'Es una fecha y hora\\n'"
      ]
     },
     "execution_count": 6,
     "metadata": {},
     "output_type": "execute_result"
    }
   ],
   "source": [
    "def validDateHour(date):\n",
    "    regex = re.compile(\n",
    "        r\"^(19[0-9]{2}|2[0-9]{3})-(0[1-9]|1[012])-([123]0|[012][1-9]|31) ([01][0-9]|2[0-3]):([0-5][0-9]):([0-5][0-9])$\"\n",
    "    )\n",
    "\n",
    "    if re.fullmatch(regex, date):\n",
    "        return \"Es una fecha y hora\\n\"\n",
    "    else:\n",
    "        return \"No es una fecha ni hora\\n\"\n",
    "    \n",
    "validDateHour('2023-09-19 08:07:40')"
   ]
  },
  {
   "cell_type": "markdown",
   "metadata": {},
   "source": [
    "# URL\n",
    "\n",
    "<p>pattern : [(http(s)?):\\/\\/(www\\.)?a-zA-Z0-9@:%._\\+~#=]{2,256}\\.[a-z]{2,6}\\b([-a-zA-Z0-9@:%_\\+.~#?&//=]*)</p>\n",
    "\n"
   ]
  }
 ],
 "metadata": {
  "kernelspec": {
   "display_name": "Python 3",
   "language": "python",
   "name": "python3"
  },
  "language_info": {
   "codemirror_mode": {
    "name": "ipython",
    "version": 3
   },
   "file_extension": ".py",
   "mimetype": "text/x-python",
   "name": "python",
   "nbconvert_exporter": "python",
   "pygments_lexer": "ipython3",
   "version": "3.10.11"
  },
  "orig_nbformat": 4
 },
 "nbformat": 4,
 "nbformat_minor": 2
}
