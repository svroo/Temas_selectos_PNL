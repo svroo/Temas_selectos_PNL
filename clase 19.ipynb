{
 "cells": [
  {
   "cell_type": "markdown",
   "metadata": {},
   "source": [
    "## Detección de errores.\n",
    "\n",
    "Erores :\n",
    "- Gramaticales\n",
    "- Runtuación\n",
    "- Captura\n",
    "\n",
    "distancia levenshtein"
   ]
  },
  {
   "cell_type": "code",
   "execution_count": 1,
   "metadata": {},
   "outputs": [
    {
     "name": "stdout",
     "output_type": "stream",
     "text": [
      "Palabra mal escrita: gl\n",
      "Palabra corregida: gol\n",
      "\n"
     ]
    }
   ],
   "source": [
    "def corregir_palabra(palabra_mal_escrita, doc = False):\n",
    "    palabra_corregida = None\n",
    "    similitud_maxima = 0\n",
    "    \n",
    "    palabra_mal_escrita = palabra_mal_escrita.lower()\n",
    "    \n",
    "    # if doc:\n",
    "    conjunto_palabras = list()\n",
    "    # for letter in palabra_mal_escrita[:2]:\n",
    "    with open(file='./dics/palabrasfutbol.txt', mode='r', encoding='utf-8') as f:\n",
    "        for line in f.readlines():\n",
    "            if len(line)> 2:\n",
    "                conjunto_palabras.append(line.lower())\n",
    "                        \n",
    "    \n",
    "                    \n",
    "    for palabra in conjunto_palabras:\n",
    "        similitud = sum(1 for letra1, letra2 in zip(palabra_mal_escrita, palabra) if letra1 == letra2)\n",
    "        if similitud > similitud_maxima:\n",
    "            similitud_maxima = similitud\n",
    "            palabra_corregida = palabra\n",
    "\n",
    "    return palabra_corregida\n",
    "\n",
    "# Ejemplo de uso\n",
    "palabra_mal_escrita = \"gl\"\n",
    "correccion = corregir_palabra(palabra_mal_escrita)\n",
    "print(f\"Palabra mal escrita: {palabra_mal_escrita}\")\n",
    "print(f\"Palabra corregida: {correccion}\")\n"
   ]
  },
  {
   "cell_type": "code",
   "execution_count": 7,
   "metadata": {},
   "outputs": [],
   "source": [
    "def equalFrequency(word: str):\n",
    "    mid = len(word) // 2\n",
    "    last_mid = word[mid:]\n",
    "    first_mid = word[:mid]\n",
    "    print(set(last_mid), last_mid)\n",
    "    \n",
    "    if (len(set(first_mid)) == len(first_mid) and len(set(last_mid)) < len(last_mid)) or (len(set(first_mid)) < len(first_mid) and len(set(last_mid)) == len(last_mid)) or (len(set(first_mid)) == len(first_mid) and len(set(last_mid)) == len(last_mid)) or (len(set(first_mid)) == len(first_mid) and len(set(last_mid)) == len(last_mid)):\n",
    "        return True\n",
    "    else:\n",
    "        return False"
   ]
  },
  {
   "cell_type": "code",
   "execution_count": 10,
   "metadata": {},
   "outputs": [
    {
     "name": "stdout",
     "output_type": "stream",
     "text": [
      "{'c'} cc\n"
     ]
    },
    {
     "data": {
      "text/plain": [
       "True"
      ]
     },
     "execution_count": 10,
     "metadata": {},
     "output_type": "execute_result"
    }
   ],
   "source": [
    "equalFrequency('abcc')\n",
    "# equalFrequency('aazz')\n",
    "# equalFrequency('bac')"
   ]
  },
  {
   "cell_type": "markdown",
   "metadata": {},
   "source": [
    "# Uso de librerias \n",
    "\n",
    "Tarea usar autocorrect, spellchecker, textblob, hunspell con mil palabras"
   ]
  },
  {
   "cell_type": "code",
   "execution_count": 37,
   "metadata": {},
   "outputs": [],
   "source": [
    "from autocorrect import Speller\n",
    "from spellchecker import SpellChecker\n",
    "from textblob import TextBlob\n",
    "from spylls.hunspell import Dictionary\n",
    "import numpy as np"
   ]
  },
  {
   "cell_type": "code",
   "execution_count": 59,
   "metadata": {},
   "outputs": [
    {
     "name": "stdout",
     "output_type": "stream",
     "text": [
      "Resultados:\n",
      "Libreria autocorrect :6.3\n",
      "Libreria Spellchecker : 0.2\n",
      "Libreria texblob : 0.0\n",
      "Libreria hunspell : 0.0\n"
     ]
    }
   ],
   "source": [
    "def open_words(ubi = './dics/words_soccer.txt')-> list[str,]:\n",
    "    \"\"\"open_words\n",
    "    Dada la ubicacion abre el archivo y lo retorna en minusculas\n",
    "\n",
    "    Args:\n",
    "        ubi (str, optional): Direccion ya sea estatica o dinamica donde se encuentra el archivo. Defaults to './dics/words_soccer.txt'.\n",
    "\n",
    "    Returns:\n",
    "        list[str,]: Retorna una lista con las palabras que se encuentran en el archivo de texto plano.\n",
    "    \"\"\"\n",
    "    texts = list()\n",
    "    with open(file= ubi, mode= 'r', encoding='utf-8')as f:\n",
    "        for item in f.readlines():\n",
    "            texts.append(item[:-2].lower())\n",
    "            \n",
    "    return texts\n",
    "\n",
    "def change_word(save = False)-> list[str,]:\n",
    "    \"\"\"change_word\n",
    "\n",
    "    Args:\n",
    "        save (bool, optional): Caundo es positivo este valor guarda las palabras generadas en un archivo de texto plano. Defaults to False.\n",
    "\n",
    "    Returns:\n",
    "        list[str,]: Retorna una lista con las palabras modificadas, no hace falta indicar cuales.\n",
    "    \"\"\"\n",
    "    words = open_words()\n",
    "    two_words = list()\n",
    "    for word in words:\n",
    "        aux = ''\n",
    "        pos = np.random.randint(0, len(word))\n",
    "        # print(pos)\n",
    "        for i in range(len(word)):\n",
    "            if i != pos:\n",
    "                aux += word[i]\n",
    "            if i == pos:\n",
    "                aux += word[pos-1]\n",
    "        two_words.append(aux)\n",
    "        \n",
    "    if save:\n",
    "        with open(file='./dics/words_soccer_with_error.txt', mode='w', encoding='utf-8') as f:\n",
    "            for word in two_words:\n",
    "                f.write(word)\n",
    "                f.write('\\n')\n",
    "    return words, two_words\n",
    "\n",
    "def comprobar_words(words, words_with_error):\n",
    "    union = list()\n",
    "    \n",
    "    for element in list(zip(words, words_with_error)):\n",
    "        union.append(element)\n",
    "    \n",
    "    spell_autocorrection = Speller(lang='en')\n",
    "    spell_spellChecker = SpellChecker(language='en')\n",
    "    dictionary = Dictionary.from_files('en_US')\n",
    "\n",
    "    contador_autocorrect = 0\n",
    "    cotador_spellcheck = 0\n",
    "    contador_textblob = 0\n",
    "    contador_hunspell = 0\n",
    "\n",
    "    for i,j in union:\n",
    "        # Create corrections\n",
    "        auto_library = spell_autocorrection(j)\n",
    "        correct_spellCheker = spell_spellChecker.correction(j)\n",
    "        spell_blob = TextBlob(j)\n",
    "        \n",
    "        # Create a list hunspell's corrections\n",
    "        hunspell_list = list()\n",
    "        \n",
    "        for suggestion in dictionary.suggest(words_with_error[0]):\n",
    "            hunspell_list.append(suggestion)\n",
    "            \n",
    "        if auto_library == i:\n",
    "            contador_autocorrect += 1\n",
    "        \n",
    "        if correct_spellCheker == i:\n",
    "            cotador_spellcheck += 1\n",
    "        \n",
    "        if spell_blob == i:\n",
    "            contador_textblob += 1\n",
    "            \n",
    "        if i in hunspell_list:\n",
    "            contador_hunspell += 1\n",
    "            \n",
    "    return f'Resultados:\\nLibreria autocorrect :{(contador_autocorrect / 1000) * 100}\\nLibreria Spellchecker : {(cotador_spellcheck/ 1000) * 100}\\nLibreria texblob : {(contador_textblob / 1000) * 100}\\nLibreria hunspell : {(contador_hunspell / 1000) * 100}'\n",
    "words = open_words()\n",
    "words_with_error = open_words(ubi='./dics/words_soccer_with_error.txt')\n",
    "print(comprobar_words(words, words_with_error))"
   ]
  },
  {
   "cell_type": "code",
   "execution_count": 51,
   "metadata": {},
   "outputs": [],
   "source": []
  },
  {
   "cell_type": "code",
   "execution_count": 52,
   "metadata": {},
   "outputs": [],
   "source": [
    "spell_autocorrection = Speller(lang='en')\n",
    "spell_spellChecker = SpellChecker(language='en')\n",
    "dictionary = Dictionary.from_files('en_US')\n",
    "\n",
    "contador_autocorrect = 0\n",
    "cotador_spellcheck = 0\n",
    "contador_textblob = 0\n",
    "contador_hunspell = 0\n",
    "\n",
    "for i,j in union:\n",
    "    # Create corrections\n",
    "    auto_library = spell_autocorrection(j)\n",
    "    correct_spellCheker = spell_spellChecker.correction(j)\n",
    "    spell_blob = TextBlob(j)\n",
    "    \n",
    "    # Create a list hunspell's corrections\n",
    "    hunspell_list = list()\n",
    "    \n",
    "    for suggestion in dictionary.suggest(words_with_error[0]):\n",
    "        hunspell_list.append(suggestion)\n",
    "        \n",
    "    if auto_library == i:\n",
    "        contador_autocorrect += 1\n",
    "    \n",
    "    if correct_spellCheker == i:\n",
    "        cotador_spellcheck += 1\n",
    "    \n",
    "    if spell_blob == i:\n",
    "        contador_textblob += 1\n",
    "        \n",
    "    if i in hunspell_list:\n",
    "        contador_hunspell += 1"
   ]
  },
  {
   "cell_type": "code",
   "execution_count": 60,
   "metadata": {},
   "outputs": [
    {
     "name": "stdout",
     "output_type": "stream",
     "text": [
      "Resultados:\n",
      "Libreria autocorrect :0.063\n",
      "Libreria Spellchecker : 0.002\n",
      "Libreria texblob : 0.0\n",
      "Libreria hunspell : 0.0\n"
     ]
    }
   ],
   "source": [
    "print(f'Resultados:\\nLibreria autocorrect :{(contador_autocorrect / 1000) * 1}\\nLibreria Spellchecker : {(cotador_spellcheck/ 1000) * 1}\\nLibreria texblob : {(contador_textblob / 1000) * 1}\\nLibreria hunspell : {(contador_hunspell / 1000) * 1}')"
   ]
  },
  {
   "cell_type": "markdown",
   "metadata": {},
   "source": [
    "# Distacia Levenshtein\n",
    "\n",
    "Año 1965\n",
    "\n",
    "También conocida como distancia de edición, es una medida de la similitud entre dos cadenas de caracteres. Se define como el número mínimo de ediciones de un solo carácter necesarias para transformar una cadena en la otra. Las ediciones pueden incluir la inserción, eliminación o sustitución de un solo carácter.\n",
    "\n",
    "La distancia de Levenshtein se utiliza comúnmete en aplicaciones como la correción otrográfica, la detección de plagio y el análisis de secuencias de ADN. Se calcula utilizando un algorimo de programación dinámica que llena una matriz para determinar el número mínimo de operaciones necesarias para transformar una cadena en la otra.\n",
    "\n",
    "Por ejemplo, en la corrección ortográfica, la distancia de Levenshtein se utiliza para sugerir correcciones para palabras mal escritas. El corrector ortográfico calcula la distancia entre la palabra mal escrita y todas las palabras de su diccionario y sugiere las palabras con la menor distancia como posibles correcciones.\n",
    "\n",
    "En la detección de plagio, la distancia de Levenshtein se utiliza para comparar dos documentos y determinar cuán similares son entre sí. Al calcular la distancia entre los dos documentos, es posible identificar las secciones que son similares y potencialmente copiadas entre sí.\n",
    "\n",
    "Un ejemplo de distancia de Levenshtein es calcular el número mínimo de ediciones de un solo carácter necesarias para transformar una palabra en otra.\n",
    "\n",
    "Por ejemplo, consideremos las palabras «kitten» y «sitting». La distancia de Levenshtein entre estas dos palabras se puede calcular de la siguiente manera:\n",
    "\n",
    "- Primero, se crea una matriz con la longitud de las dos palabras más uno. En este caso al matriz seria de 6 x 8.\n",
    "- Luego, la matriz se llena utilizando un algorimo de programación dinámica. Cada celda representa la distancia de Levenshtein entre la subcadena de la primera palabra hasta esa celda y la subcadena de la segunda palabra hasta esa celda.\n",
    "- La matriz queda de la siguiente manera:\n",
    "\n",
    "![Alt text](image.png)\n",
    "\n",
    "- La celda inferior derecha de la matriz representa la distancia de Levenshtein entre las dos palabras. En este caso, la distancia es 3, lo que significa que se necesitan tres ediciones de un solo carácter para transformar «kitten» en «sitting». Las ediciones son: reemplazar «k» por «s», reemplazar «e» por «i» e insertar «g» al final.\n",
    "\n",
    "Este ejemplo ilustra cómo la distancia de Levenshtein se puede utilizar para calcular la similitud entre dos palabras y cómo puede ser útil en aplicaciones como la corrección ortográfica y de texto.\n",
    "\n",
    "### Limitaciones de la distancia de Levenshtein\n",
    "\n",
    "La distancia de Levenshtein tiene algunas limitaciones que pueden afectar su utilidad en ciertas aplicaciones. Algunas de estas limitaciones incluyen:\n",
    "\n",
    "- Costoso computacionalmente: El cálculo de la distancia de Levenshtein requiere un algoritmo de programación dinámica que puede ser costoso computacionalmente, especialmente para cadenas largas. Esto puede limitar su uso en aplicaciones en tiempo real o en situaciones donde el rendimiento es crítico.\n",
    "\n",
    "- Supone un costo igual para las operaciones: La distancia de Levenshtein supone que cada edición de un solo carácter tiene un costo igual, ya sea una inserción, eliminación o sustitución. Sin embargo, en algunas aplicaciones, como el análisis de secuencias de ADN, ciertas operaciones pueden tener diferentes costos según su significado biológico.\n",
    "\n",
    "- Ignora la información contextual: La distancia de Levenshtein solo considera la similitud entre dos cadenas basada en sus caracteres individuales, sin considerar el contexto o el significado de las palabras. Esto puede limitar su efectividad en aplicaciones como la traducción de idiomas o el análisis semántico.\n",
    "\n",
    "- Limitado a cadenas: La distancia de Levenshtein está diseñada para trabajar con cadenas de caracteres y puede no ser aplicable en situaciones donde se necesite comparar otros tipos de datos, como datos numéricos o categóricos.\n",
    "\n",
    "- Sensibilidad al ruido: La distancia de Levenshtein puede ser sensible a pequeñas variaciones o errores en los datos de entrada, lo que puede resultar en diferencias significativas en la distancia calculada."
   ]
  },
  {
   "cell_type": "markdown",
   "metadata": {},
   "source": [
    "$\\downarrow$ Borrado\n",
    "\n",
    "$\\rightarrow$ Inseción\n",
    "\n",
    "$\\searrow$ Sustitución\n",
    "\n",
    "$\\searrow$ nada"
   ]
  },
  {
   "cell_type": "code",
   "execution_count": null,
   "metadata": {},
   "outputs": [],
   "source": [
    "# codigo\n"
   ]
  }
 ],
 "metadata": {
  "kernelspec": {
   "display_name": "Python 3",
   "language": "python",
   "name": "python3"
  },
  "language_info": {
   "codemirror_mode": {
    "name": "ipython",
    "version": 3
   },
   "file_extension": ".py",
   "mimetype": "text/x-python",
   "name": "python",
   "nbconvert_exporter": "python",
   "pygments_lexer": "ipython3",
   "version": "3.10.13"
  },
  "orig_nbformat": 4
 },
 "nbformat": 4,
 "nbformat_minor": 2
}
