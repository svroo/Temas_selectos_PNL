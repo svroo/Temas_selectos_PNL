{
 "cells": [
  {
   "cell_type": "markdown",
   "metadata": {},
   "source": [
    "Lematización y stemming con spacy"
   ]
  },
  {
   "cell_type": "code",
   "execution_count": 1,
   "metadata": {},
   "outputs": [],
   "source": [
    "import spacy\n",
    "import nltk\n",
    "from nltk import SnowballStemmer"
   ]
  },
  {
   "cell_type": "markdown",
   "metadata": {},
   "source": [
    "# Lematizacicón"
   ]
  },
  {
   "cell_type": "code",
   "execution_count": 2,
   "metadata": {},
   "outputs": [],
   "source": [
    "# Inicialización de spacy.\n",
    "nlp = spacy.load(\"es_core_news_sm\")\n",
    "\n",
    "# Función de normalización\n",
    "def normalize(text):\n",
    "    doc = nlp(text)\n",
    "    words = [t.orth_ for t in doc if not t.is_punct | t.is_stop]\n",
    "    lexical_tokenss = [t.lower() for t in words if len(t) > 3 and t.isalnum()]\n",
    "    return lexical_tokenss    "
   ]
  },
  {
   "cell_type": "code",
   "execution_count": 3,
   "metadata": {},
   "outputs": [
    {
     "name": "stdout",
     "output_type": "stream",
     "text": [
      "['texto', 'pide', 'gritos', 'procesen', 'canto', 'cantas', 'canta', 'cantamos', 'cantáis', 'cantan']\n"
     ]
    }
   ],
   "source": [
    "# Implementación de la función de normalización.\n",
    "lemmas = normalize(\"\"\"Soy un texto que pide a gritos que lo procesen. Por eso yo canto, tú cantas, ella canta, nosotros cantamos, cantáis, cantan…\"\"\")\n",
    "print(lemmas)"
   ]
  },
  {
   "cell_type": "markdown",
   "metadata": {},
   "source": [
    "# Stemming"
   ]
  },
  {
   "cell_type": "code",
   "execution_count": 4,
   "metadata": {},
   "outputs": [
    {
     "name": "stdout",
     "output_type": "stream",
     "text": [
      "['soy', 'un', 'text', 'que', 'pid', 'a', 'grit', 'que', 'lo', 'procesen.', 'por', 'eso', 'yo', 'canto,', 'tu', 'cantas,', 'ella', 'canta,', 'nosotr', 'cantamos,', 'cantais,', 'cantan…']\n"
     ]
    }
   ],
   "source": [
    "# Implementación de Stemming\n",
    "spanishstemmer = SnowballStemmer('spanish')\n",
    "text = \"\"\"Soy un texto que pide a gritos que lo procesen. Por eso yo canto, tú cantas, ella canta, nosotros cantamos, cantáis, cantan…\"\"\"\n",
    "# Creación de una lista de tokens.\n",
    "tokens = text.split() \n",
    "stems = [spanishstemmer.stem(token) for token in tokens]\n",
    "print(stems)"
   ]
  }
 ],
 "metadata": {
  "kernelspec": {
   "display_name": "PNLenv",
   "language": "python",
   "name": "python3"
  },
  "language_info": {
   "codemirror_mode": {
    "name": "ipython",
    "version": 3
   },
   "file_extension": ".py",
   "mimetype": "text/x-python",
   "name": "python",
   "nbconvert_exporter": "python",
   "pygments_lexer": "ipython3",
   "version": "3.10.13"
  }
 },
 "nbformat": 4,
 "nbformat_minor": 2
}
